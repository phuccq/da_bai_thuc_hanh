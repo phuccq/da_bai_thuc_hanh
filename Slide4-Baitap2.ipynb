{
 "cells": [
  {
   "cell_type": "code",
   "execution_count": 1,
   "id": "0eab03fe-aebf-43e0-b14f-a2c1a465edc2",
   "metadata": {
    "jupyter": {
     "source_hidden": true
    },
    "tags": []
   },
   "outputs": [],
   "source": [
    "# Không được động vào cell này\n",
    "from ipywidgets import widgets\n",
    "from IPython.display import HTML,Javascript, display\n",
    "from IPython.core.magic import register_cell_magic\n",
    "from IPython.utils.capture import capture_output\n",
    "from IPython import get_ipython\n",
    "from IPython.core import magic_arguments\n",
    "import sys\n",
    "import pandas as pd\n",
    "\n",
    "response = ''\n",
    "score = [0]*11\n",
    "\n",
    "def popup(text):\n",
    "    display(HTML(\"<script>alert('{}');</script>\".format(text)))\n",
    "\n",
    "def final_score(score):\n",
    "    final = 'Diem so la: ' +  str(sum(score)) + '/10'\n",
    "    print(final)\n",
    "    popup(final)\n",
    "\n",
    "@magic_arguments.magic_arguments()\n",
    "@magic_arguments.argument('output', type=str, default='', nargs='?',\n",
    "    help=\"\"\"The name of the variable in which to store output.\n",
    "    This is a utils.io.CapturedIO object with stdout/err attributes\n",
    "    for the text of the captured output.\n",
    "    CapturedOutput also has a show() method for displaying the output,\n",
    "    and __call__ as well, so you can use that to quickly display the\n",
    "    output.\n",
    "    If unspecified, captured output is discarded.\n",
    "    \"\"\"\n",
    ")\n",
    "@magic_arguments.argument('--no-stderr', action=\"store_true\",\n",
    "    help=\"\"\"Don't capture stderr.\"\"\"\n",
    ")\n",
    "@magic_arguments.argument('--no-stdout', action=\"store_true\",\n",
    "    help=\"\"\"Don't capture stdout.\"\"\"\n",
    ")\n",
    "@magic_arguments.argument('--no-display', action=\"store_true\",\n",
    "    help=\"\"\"Don't capture IPython's rich display.\"\"\"\n",
    ")    \n",
    "\n",
    "\n",
    "@register_cell_magic\n",
    "def tee(line, cell):\n",
    "    args = magic_arguments.parse_argstring(tee, line)\n",
    "    out = not args.no_stdout\n",
    "    err = not args.no_stderr\n",
    "    disp = not args.no_display\n",
    "    with capture_output(out, err, disp) as io:\n",
    "        get_ipython().run_cell(cell)\n",
    "    if args.output:\n",
    "        get_ipython().user_ns[args.output] = io\n",
    "    \n",
    "    io()\n",
    "\n",
    "@register_cell_magic('cauhoi')\n",
    "def cauhoi(line, cell):\n",
    "        get_ipython().run_cell(cell)\n",
    "        check[int(line)]()\n",
    "        \n",
    "def cau1():\n",
    "    mark=0\n",
    "    libs = ['pandas','sklearn','matplotlib','numpy']\n",
    "    for lib in libs:\n",
    "        if lib in sys.modules:\n",
    "            mark = mark + 1\n",
    "            # print(lib)\n",
    "    if 'data' in globals():\n",
    "        mark = mark + 1\n",
    "    # print(mark)\n",
    "    if mark == 5 :\n",
    "        score[1] = 1\n",
    "        print('===== Pass =====')\n",
    "    else:\n",
    "        score[1] = 0\n",
    "def cau2():\n",
    "    mark=0\n",
    "    terms=[]\n",
    "    terms.append(\"Cột  area  chứa  6  giá trị KT\\nCột  price  chứa  56  giá trị KT\\nCột  land_certificate  chứa  307  giá trị KT\\nCột  house_direction  chứa  956  giá trị KT\\nCột  balcony_direction  chứa  976  giá trị KT\\nCột  toilet  chứa  449  giá trị KT\\nCột  bedroom  chứa  365  giá trị KT\\nCột  floor  chứa  624  giá trị KT\\nCột  street_name  chứa  192  giá trị KT\\nCột  ward_name  chứa  198  giá trị KT\")\n",
    "    terms.append('986')\n",
    "    terms.append(\"Các cột 'area', 'price' có thể xóa\")\n",
    "    for term in terms:\n",
    "        if str(response).find(term) >=0 :\n",
    "            mark = mark + 1\n",
    "    if mark == 3:\n",
    "        score[2] = 1\n",
    "        print('===== Pass =====')\n",
    "    else:\n",
    "        score[2] = 0\n",
    "def cau3():\n",
    "    try:\n",
    "        if data.shape[0]==944 :\n",
    "            score[3] = 1\n",
    "            print('===== Pass =====')\n",
    "    except:\n",
    "        score[3] = 0\n",
    "def cau4():\n",
    "    try:\n",
    "        if data.query(\"land_certificate == 'không có thông tin'\").shape[0]==261 :\n",
    "            score[4] = 1\n",
    "            print('===== Pass =====')\n",
    "    except:\n",
    "        score[4] = 0\n",
    "def cau5():\n",
    "    mark = 0\n",
    "    terms = [901, 920, 396, 313, 577]\n",
    "    list_ = ['house_direction', 'balcony_direction', 'toilet', 'bedroom', 'floor']\n",
    "    try:\n",
    "        for i, col in enumerate(list_):\n",
    "            if data.loc[:,col].value_counts().max() == terms[i]:\n",
    "                mark = mark + 1\n",
    "        if mark == 5:\n",
    "            score[5] = 1\n",
    "            print('===== Pass =====')\n",
    "    except:\n",
    "        score[5] = 0\n",
    "def cau6():\n",
    "    mark = 0\n",
    "    try:\n",
    "        if (nhapho.shape[0]==228) and (nhapho.shape[1]==19):\n",
    "            mark = mark + 1\n",
    "        if (nhapho.loc[1,'giá (triệu/m2)'] == 357.14285714285717) and (nhapho.loc[999,'giá (triệu/m2)'] == 420.5607476635514):\n",
    "            mark = mark + 1\n",
    "        if mark == 2:\n",
    "            score[6] = 1\n",
    "            print('===== Pass =====')\n",
    "    except:\n",
    "        score[6] = 0\n",
    "def cau7():\n",
    "    mark=0\n",
    "    try:\n",
    "        if (nhapho7.shape[0]==223) and (nhapho7.shape[1]==19) :\n",
    "            mark = mark + 1\n",
    "        if str(response).find('Số giá trị bị bỏ đi là 5') >=0:\n",
    "            mark = mark + 1\n",
    "        if nhapho7.loc[1,'area']==35:\n",
    "            mark = mark + 1\n",
    "        if mark == 3:\n",
    "            score[7] = 1\n",
    "            print('===== Pass =====')\n",
    "    except:\n",
    "        score[7] = 0\n",
    "def cau8():\n",
    "    mark=0\n",
    "    try:\n",
    "        if (nhapho8.shape[0]==196) and (nhapho8.shape[1]==19) :\n",
    "            mark = mark + 1\n",
    "        if str(response).find('Số giá trị bị bỏ đi là 32') >=0:\n",
    "            mark = mark + 1\n",
    "        if nhapho8.loc[1,'area']==35:\n",
    "            mark = mark + 1\n",
    "        if mark == 3:\n",
    "            score[8] = 1\n",
    "            print('===== Pass =====')\n",
    "    except:\n",
    "        score[8] = 0\n",
    "def cau9():\n",
    "    mark = 0\n",
    "    terms=[]\n",
    "    terms.append(['Z-score', 'MinMax', 'Robust'])\n",
    "    terms.append(['mode', 'mean', 'median'])\n",
    "    ref = pd.DataFrame([[-5.814029e-02, 0.039586, 0.175644],\n",
    "                       [1.728637e-16, 0.043694, 0.364414],\n",
    "                       [-1.122381e-01, 0.035764, 0.000000]], index=terms[1], columns=terms[0])\n",
    "    try:\n",
    "        for col in terms[0]:\n",
    "            for att in terms[1]:\n",
    "                if (nhapho9.loc[att,col] - ref.loc[att,col] <= 1e-6):\n",
    "                    mark += 1\n",
    "        if mark == 9:\n",
    "            score[9] = 1\n",
    "            print('===== Pass =====')\n",
    "    except:\n",
    "        score[9] = 0\n",
    "def cau10():\n",
    "    mark = 0\n",
    "    terms=[]\n",
    "    terms.append(['Z-score', 'MinMax', 'Robust'])\n",
    "    terms.append(['mode', 'mean', 'median'])\n",
    "    ref = pd.DataFrame([[-0.058140, 0.039586, 0.175644],\n",
    "                       [-0.081952, 0.037903, 0.026918],\n",
    "                       [-0.115635, 0.035524, -0.026551]], index=terms[1], columns=terms[0])\n",
    "    try:\n",
    "        for col in terms[0]:\n",
    "            for att in terms[1]:\n",
    "                # print(nhapho10.loc[att,col] - ref.loc[att,col])\n",
    "                if (nhapho10.loc[att,col] - ref.loc[att,col] <= 1e-6):\n",
    "                    mark += 1\n",
    "        if mark == 9:\n",
    "            score[10] = 1\n",
    "            print('===== Pass =====')\n",
    "    except:\n",
    "        score[10] = 0\n",
    "    \n",
    "check = {1: cau1, 2:cau2, 3: cau3, 4: cau4, 5: cau5, 6: cau6, 7: cau7, 8: cau8, 9: cau9, 10: cau10}"
   ]
  },
  {
   "cell_type": "markdown",
   "id": "1a261b25-7817-4ec7-b71a-124d87a2489f",
   "metadata": {
    "tags": []
   },
   "source": [
    "# Bài tập Tiền xử lý dữ liệu - Phần 2"
   ]
  },
  {
   "cell_type": "markdown",
   "id": "f3456bcb-f192-4ed1-9a29-1af4154003dc",
   "metadata": {
    "jp-MarkdownHeadingCollapsed": true,
    "tags": []
   },
   "source": [
    "<font color='red' size=\"5\" >Trước và sau khi code xong, chọn 'Kernel'->'Restart Kernel and Run All Cells' để có thể chấm điểm chính xác. </br>\n",
    "Các bạn viết code vào các cell trả lời.  </br>\n",
    "Cell nào cho ra đúng kết quả sẽ có thêm đoạn ===== Pass ===== </br></font> "
   ]
  },
  {
   "cell_type": "markdown",
   "id": "2e0c6694-7f5c-4de7-9817-e9252545276d",
   "metadata": {},
   "source": [
    "**Một công ty mối giới bất động sản, muốn cung cấp dịch vụ tư vấn giao dịch cho khách hàng tại khu vực Đống Đa Hà Nội với loại hình nhà mặt đất. Công ty đã tiến hành thu thập thông tin của một số bất động sản ở các vị trí khác nhau: Thông tin nhân viên của công ty thu thập được gồm:   \n",
    "Area: diện tích\n",
    "Price: diện tích căn nhà (tính theo đơn vị tỷ đồng)  \n",
    "postDate: Ngày chủ nhà giao bán trên mạng  \n",
    "land_certificate: Loại giấy tờ  \n",
    "house_direction: hướng nhà   \n",
    "balcony_direction: Hướng ban công  \n",
    "toilet: số lượng toilet  \n",
    "bedroom: Số lượng phòng ngủ  \n",
    "Floor: Số tầng  \n",
    "type_of_land: loại nhà đất (mặt phố hoặc trong ngõ)**"
   ]
  },
  {
   "cell_type": "markdown",
   "id": "3c63b01d-db10-4942-8425-ff32d1ec303c",
   "metadata": {
    "tags": []
   },
   "source": [
    "## Câu 1:"
   ]
  },
  {
   "cell_type": "markdown",
   "id": "c1bd967f-5e04-4994-8706-262b5dbf956b",
   "metadata": {},
   "source": [
    "**Khai báo thư viện pandas, numpy, sklearn, matpotlib.pyplot   \n",
    "Nhập dữ liệu vào biến data**"
   ]
  },
  {
   "cell_type": "code",
   "execution_count": 2,
   "id": "de7da1f9-75ac-4517-b1fc-fb0806d345f7",
   "metadata": {
    "tags": []
   },
   "outputs": [
    {
     "name": "stderr",
     "output_type": "stream",
     "text": [
      "C:\\Users\\Phuccq\\anaconda3\\lib\\site-packages\\openpyxl\\worksheet\\_reader.py:312: UserWarning: Unknown extension is not supported and will be removed\n",
      "  warn(msg)\n"
     ]
    },
    {
     "data": {
      "text/html": [
       "<div>\n",
       "<style scoped>\n",
       "    .dataframe tbody tr th:only-of-type {\n",
       "        vertical-align: middle;\n",
       "    }\n",
       "\n",
       "    .dataframe tbody tr th {\n",
       "        vertical-align: top;\n",
       "    }\n",
       "\n",
       "    .dataframe thead th {\n",
       "        text-align: right;\n",
       "    }\n",
       "</style>\n",
       "<table border=\"1\" class=\"dataframe\">\n",
       "  <thead>\n",
       "    <tr style=\"text-align: right;\">\n",
       "      <th></th>\n",
       "      <th>title</th>\n",
       "      <th>address</th>\n",
       "      <th>area</th>\n",
       "      <th>price</th>\n",
       "      <th>postDate</th>\n",
       "      <th>land_certificate</th>\n",
       "      <th>house_direction</th>\n",
       "      <th>balcony_direction</th>\n",
       "      <th>toilet</th>\n",
       "      <th>bedroom</th>\n",
       "      <th>floor</th>\n",
       "      <th>type_of_land</th>\n",
       "      <th>street_name</th>\n",
       "      <th>ward_name</th>\n",
       "      <th>district_name</th>\n",
       "      <th>city_name</th>\n",
       "      <th>lat</th>\n",
       "      <th>long</th>\n",
       "    </tr>\n",
       "  </thead>\n",
       "  <tbody>\n",
       "    <tr>\n",
       "      <th>0</th>\n",
       "      <td>Bán nhà Trần Quang Diệu mới coong đẹp 50m2x6 t...</td>\n",
       "      <td>Đường Trần Quang Diệu, Phường Trung Liệt, Đốn...</td>\n",
       "      <td>50.0</td>\n",
       "      <td>14700.0</td>\n",
       "      <td>2021-01-01</td>\n",
       "      <td>Sổ đỏ</td>\n",
       "      <td>NaN</td>\n",
       "      <td>NaN</td>\n",
       "      <td>4.0</td>\n",
       "      <td>6.0</td>\n",
       "      <td>6.0</td>\n",
       "      <td>Bán nhà riêng\\n</td>\n",
       "      <td>Đường Trần Quang Diệu</td>\n",
       "      <td>Phường Trung Liệt</td>\n",
       "      <td>Quận Đống Đa</td>\n",
       "      <td>Thành phố Hà Nội</td>\n",
       "      <td>21.015698</td>\n",
       "      <td>105.824583</td>\n",
       "    </tr>\n",
       "    <tr>\n",
       "      <th>1</th>\n",
       "      <td>Bán nhà mặt phố Tây Sơn - 6 tầng. Kinh doanh t...</td>\n",
       "      <td>Đường Tây Sơn, Phường Trung Liệt, Đống Đa, Hà...</td>\n",
       "      <td>35.0</td>\n",
       "      <td>12500.0</td>\n",
       "      <td>2021-02-19</td>\n",
       "      <td>Sổ đỏ</td>\n",
       "      <td>NaN</td>\n",
       "      <td>NaN</td>\n",
       "      <td>NaN</td>\n",
       "      <td>NaN</td>\n",
       "      <td>6.0</td>\n",
       "      <td>Bán nhà mặt phố\\n</td>\n",
       "      <td>Phố Trung Liệt</td>\n",
       "      <td>Phường Trung Liệt</td>\n",
       "      <td>Quận Đống Đa</td>\n",
       "      <td>Thành phố Hà Nội</td>\n",
       "      <td>21.008930</td>\n",
       "      <td>105.824105</td>\n",
       "    </tr>\n",
       "    <tr>\n",
       "      <th>2</th>\n",
       "      <td>Bán nhà số 36 Đoàn Kết - phố Khâm Thiên - Đống...</td>\n",
       "      <td>Số 36 Đoàn Kết, Phố Khâm Thiên, Phường Thổ Qu...</td>\n",
       "      <td>57.0</td>\n",
       "      <td>4200.0</td>\n",
       "      <td>2021-03-10</td>\n",
       "      <td>Sổ đỏ</td>\n",
       "      <td>Nam</td>\n",
       "      <td>Nam</td>\n",
       "      <td>3.0</td>\n",
       "      <td>8.0</td>\n",
       "      <td>4.0</td>\n",
       "      <td>Bán nhà riêng\\n</td>\n",
       "      <td>Phố Khâm Thiên</td>\n",
       "      <td>Phường Khâm Thiên</td>\n",
       "      <td>Quận Đống Đa</td>\n",
       "      <td>Thành phố Hà Nội</td>\n",
       "      <td>21.025208</td>\n",
       "      <td>105.833111</td>\n",
       "    </tr>\n",
       "    <tr>\n",
       "      <th>3</th>\n",
       "      <td>Bán nhà 6 tầng mới kinh doanh mặt ngõ 1194 Đườ...</td>\n",
       "      <td>Ngõ 1194, Đường Láng, Phường Láng Thượng, Đố...</td>\n",
       "      <td>62.0</td>\n",
       "      <td>11000.0</td>\n",
       "      <td>2021-03-13</td>\n",
       "      <td>Sổ đỏ</td>\n",
       "      <td>Đông</td>\n",
       "      <td>Đông-Nam</td>\n",
       "      <td>6.0</td>\n",
       "      <td>5.0</td>\n",
       "      <td>6.0</td>\n",
       "      <td>Bán nhà riêng\\n</td>\n",
       "      <td>Đường Láng Thượng</td>\n",
       "      <td>Phường Láng Thượng</td>\n",
       "      <td>Quận Đống Đa</td>\n",
       "      <td>Thành phố Hà Nội</td>\n",
       "      <td>21.025379</td>\n",
       "      <td>105.801011</td>\n",
       "    </tr>\n",
       "    <tr>\n",
       "      <th>4</th>\n",
       "      <td>Bán nhà mặt phố Thái Hà 70m2, 5 tầng, 4.5m mặt...</td>\n",
       "      <td>Phố Thái Hà, Phường Trung Liệt, Đống Đa, Hà Nội</td>\n",
       "      <td>70.0</td>\n",
       "      <td>36000.0</td>\n",
       "      <td>2021-03-13</td>\n",
       "      <td>Sổ đỏ</td>\n",
       "      <td>NaN</td>\n",
       "      <td>NaN</td>\n",
       "      <td>NaN</td>\n",
       "      <td>6.0</td>\n",
       "      <td>5.0</td>\n",
       "      <td>Bán nhà mặt phố\\n</td>\n",
       "      <td>Phố Trung Liệt</td>\n",
       "      <td>Phường Trung Liệt</td>\n",
       "      <td>Quận Đống Đa</td>\n",
       "      <td>Thành phố Hà Nội</td>\n",
       "      <td>21.009239</td>\n",
       "      <td>105.824230</td>\n",
       "    </tr>\n",
       "    <tr>\n",
       "      <th>...</th>\n",
       "      <td>...</td>\n",
       "      <td>...</td>\n",
       "      <td>...</td>\n",
       "      <td>...</td>\n",
       "      <td>...</td>\n",
       "      <td>...</td>\n",
       "      <td>...</td>\n",
       "      <td>...</td>\n",
       "      <td>...</td>\n",
       "      <td>...</td>\n",
       "      <td>...</td>\n",
       "      <td>...</td>\n",
       "      <td>...</td>\n",
       "      <td>...</td>\n",
       "      <td>...</td>\n",
       "      <td>...</td>\n",
       "      <td>...</td>\n",
       "      <td>...</td>\n",
       "    </tr>\n",
       "    <tr>\n",
       "      <th>995</th>\n",
       "      <td>Bán nhà mặt phố Yên Lãng, Đống Đa, 65m2, 5T, 1...</td>\n",
       "      <td>Đường Yên Lãng, Phường Láng Hạ, Đống Đa, Hà...</td>\n",
       "      <td>65.0</td>\n",
       "      <td>17500.0</td>\n",
       "      <td>2021-05-09</td>\n",
       "      <td>Sổ đỏ</td>\n",
       "      <td>NaN</td>\n",
       "      <td>NaN</td>\n",
       "      <td>NaN</td>\n",
       "      <td>6.0</td>\n",
       "      <td>5.0</td>\n",
       "      <td>Bán nhà mặt phố\\n</td>\n",
       "      <td>Đường Yên Lãng</td>\n",
       "      <td>Phường Láng Hạ</td>\n",
       "      <td>Quận Đống Đa</td>\n",
       "      <td>Thành phố Hà Nội</td>\n",
       "      <td>21.011495</td>\n",
       "      <td>105.816666</td>\n",
       "    </tr>\n",
       "    <tr>\n",
       "      <th>996</th>\n",
       "      <td>Bán nhà 5 tầng đep MP Yên Lãng giá rẻ, DT 60m2...</td>\n",
       "      <td>Đường Yên Lãng, Phường Trung Liệt, Đống Đa, ...</td>\n",
       "      <td>60.0</td>\n",
       "      <td>17500.0</td>\n",
       "      <td>2021-01-01</td>\n",
       "      <td>NaN</td>\n",
       "      <td>NaN</td>\n",
       "      <td>NaN</td>\n",
       "      <td>NaN</td>\n",
       "      <td>NaN</td>\n",
       "      <td>NaN</td>\n",
       "      <td>Bán nhà mặt phố\\n</td>\n",
       "      <td>Phố Trung Liệt</td>\n",
       "      <td>Phường Trung Liệt</td>\n",
       "      <td>Quận Đống Đa</td>\n",
       "      <td>Thành phố Hà Nội</td>\n",
       "      <td>21.011495</td>\n",
       "      <td>105.816666</td>\n",
       "    </tr>\n",
       "    <tr>\n",
       "      <th>997</th>\n",
       "      <td>MẶT PHỐ XÃ ĐÀN - KINH DOANH ĐỈNH CAO - 6 TẦNG ...</td>\n",
       "      <td>Phố Xã Đàn, Phường Ô Chợ Dừa, Đống Đa, Hà Nội</td>\n",
       "      <td>45.0</td>\n",
       "      <td>24800.0</td>\n",
       "      <td>2021-01-01</td>\n",
       "      <td>NaN</td>\n",
       "      <td>NaN</td>\n",
       "      <td>NaN</td>\n",
       "      <td>NaN</td>\n",
       "      <td>NaN</td>\n",
       "      <td>NaN</td>\n",
       "      <td>Bán nhà mặt phố\\n</td>\n",
       "      <td>Đường Ô Chợ Dừa</td>\n",
       "      <td>Phường Ô Chợ Dừa</td>\n",
       "      <td>Quận Đống Đa</td>\n",
       "      <td>Thành phố Hà Nội</td>\n",
       "      <td>21.016106</td>\n",
       "      <td>105.832157</td>\n",
       "    </tr>\n",
       "    <tr>\n",
       "      <th>998</th>\n",
       "      <td>Bán nhà mặt hồ Văn Chương, Đống Đa 33m2, 6 tần...</td>\n",
       "      <td>Hồ Văn Chương, Phường Văn Chương, Quận Đống Đa...</td>\n",
       "      <td>178.0</td>\n",
       "      <td>8100.0</td>\n",
       "      <td>2021-01-01</td>\n",
       "      <td>Sổ đỏ</td>\n",
       "      <td>NaN</td>\n",
       "      <td>NaN</td>\n",
       "      <td>4.0</td>\n",
       "      <td>3.0</td>\n",
       "      <td>NaN</td>\n",
       "      <td>Bán nhà riêng</td>\n",
       "      <td>Đường Hồ Văn Chương</td>\n",
       "      <td>Phường Văn Chương</td>\n",
       "      <td>Quận Đống Đa</td>\n",
       "      <td>Thành phố Hà Nội</td>\n",
       "      <td>21.021345</td>\n",
       "      <td>105.833122</td>\n",
       "    </tr>\n",
       "    <tr>\n",
       "      <th>999</th>\n",
       "      <td>Bán nhà 5 tầng MP Chùa Bộc hạ giá sốc, tử 58,6...</td>\n",
       "      <td>Phố Chùa Bộc, Phường Khương Thượng, Đống Đa, ...</td>\n",
       "      <td>107.0</td>\n",
       "      <td>45000.0</td>\n",
       "      <td>2021-05-09</td>\n",
       "      <td>Sổ đỏ</td>\n",
       "      <td>NaN</td>\n",
       "      <td>NaN</td>\n",
       "      <td>NaN</td>\n",
       "      <td>NaN</td>\n",
       "      <td>5.0</td>\n",
       "      <td>Bán nhà mặt phố\\n</td>\n",
       "      <td>Phố Khương Thượng</td>\n",
       "      <td>Phường Khương Thượng</td>\n",
       "      <td>Quận Đống Đa</td>\n",
       "      <td>Thành phố Hà Nội</td>\n",
       "      <td>21.009123</td>\n",
       "      <td>105.824428</td>\n",
       "    </tr>\n",
       "  </tbody>\n",
       "</table>\n",
       "<p>1000 rows × 18 columns</p>\n",
       "</div>"
      ],
      "text/plain": [
       "                                                 title  \\\n",
       "0    Bán nhà Trần Quang Diệu mới coong đẹp 50m2x6 t...   \n",
       "1    Bán nhà mặt phố Tây Sơn - 6 tầng. Kinh doanh t...   \n",
       "2    Bán nhà số 36 Đoàn Kết - phố Khâm Thiên - Đống...   \n",
       "3    Bán nhà 6 tầng mới kinh doanh mặt ngõ 1194 Đườ...   \n",
       "4    Bán nhà mặt phố Thái Hà 70m2, 5 tầng, 4.5m mặt...   \n",
       "..                                                 ...   \n",
       "995  Bán nhà mặt phố Yên Lãng, Đống Đa, 65m2, 5T, 1...   \n",
       "996  Bán nhà 5 tầng đep MP Yên Lãng giá rẻ, DT 60m2...   \n",
       "997  MẶT PHỐ XÃ ĐÀN - KINH DOANH ĐỈNH CAO - 6 TẦNG ...   \n",
       "998  Bán nhà mặt hồ Văn Chương, Đống Đa 33m2, 6 tần...   \n",
       "999  Bán nhà 5 tầng MP Chùa Bộc hạ giá sốc, tử 58,6...   \n",
       "\n",
       "                                               address   area    price  \\\n",
       "0    Đường Trần Quang Diệu, Phường Trung Liệt, Đốn...   50.0  14700.0   \n",
       "1    Đường Tây Sơn, Phường Trung Liệt, Đống Đa, Hà...   35.0  12500.0   \n",
       "2    Số 36 Đoàn Kết, Phố Khâm Thiên, Phường Thổ Qu...   57.0   4200.0   \n",
       "3    Ngõ 1194, Đường Láng, Phường Láng Thượng, Đố...   62.0  11000.0   \n",
       "4     Phố Thái Hà, Phường Trung Liệt, Đống Đa, Hà Nội   70.0  36000.0   \n",
       "..                                                 ...    ...      ...   \n",
       "995  Đường Yên Lãng, Phường Láng Hạ, Đống Đa, Hà...   65.0  17500.0   \n",
       "996  Đường Yên Lãng, Phường Trung Liệt, Đống Đa, ...   60.0  17500.0   \n",
       "997    Phố Xã Đàn, Phường Ô Chợ Dừa, Đống Đa, Hà Nội   45.0  24800.0   \n",
       "998  Hồ Văn Chương, Phường Văn Chương, Quận Đống Đa...  178.0   8100.0   \n",
       "999  Phố Chùa Bộc, Phường Khương Thượng, Đống Đa, ...  107.0  45000.0   \n",
       "\n",
       "      postDate land_certificate house_direction balcony_direction  toilet  \\\n",
       "0   2021-01-01            Sổ đỏ             NaN               NaN     4.0   \n",
       "1   2021-02-19            Sổ đỏ             NaN               NaN     NaN   \n",
       "2   2021-03-10            Sổ đỏ             Nam               Nam     3.0   \n",
       "3   2021-03-13            Sổ đỏ            Đông          Đông-Nam     6.0   \n",
       "4   2021-03-13            Sổ đỏ             NaN               NaN     NaN   \n",
       "..         ...              ...             ...               ...     ...   \n",
       "995 2021-05-09            Sổ đỏ             NaN               NaN     NaN   \n",
       "996 2021-01-01              NaN             NaN               NaN     NaN   \n",
       "997 2021-01-01              NaN             NaN               NaN     NaN   \n",
       "998 2021-01-01            Sổ đỏ             NaN               NaN     4.0   \n",
       "999 2021-05-09            Sổ đỏ             NaN               NaN     NaN   \n",
       "\n",
       "     bedroom  floor        type_of_land            street_name  \\\n",
       "0        6.0    6.0    Bán nhà riêng\\n   Đường Trần Quang Diệu   \n",
       "1        NaN    6.0  Bán nhà mặt phố\\n          Phố Trung Liệt   \n",
       "2        8.0    4.0    Bán nhà riêng\\n          Phố Khâm Thiên   \n",
       "3        5.0    6.0    Bán nhà riêng\\n       Đường Láng Thượng   \n",
       "4        6.0    5.0  Bán nhà mặt phố\\n          Phố Trung Liệt   \n",
       "..       ...    ...                 ...                    ...   \n",
       "995      6.0    5.0  Bán nhà mặt phố\\n         Đường Yên Lãng   \n",
       "996      NaN    NaN  Bán nhà mặt phố\\n          Phố Trung Liệt   \n",
       "997      NaN    NaN  Bán nhà mặt phố\\n         Đường Ô Chợ Dừa   \n",
       "998      3.0    NaN       Bán nhà riêng    Đường Hồ Văn Chương   \n",
       "999      NaN    5.0  Bán nhà mặt phố\\n       Phố Khương Thượng   \n",
       "\n",
       "                ward_name district_name         city_name        lat  \\\n",
       "0       Phường Trung Liệt  Quận Đống Đa  Thành phố Hà Nội  21.015698   \n",
       "1       Phường Trung Liệt  Quận Đống Đa  Thành phố Hà Nội  21.008930   \n",
       "2       Phường Khâm Thiên  Quận Đống Đa  Thành phố Hà Nội  21.025208   \n",
       "3      Phường Láng Thượng  Quận Đống Đa  Thành phố Hà Nội  21.025379   \n",
       "4       Phường Trung Liệt  Quận Đống Đa  Thành phố Hà Nội  21.009239   \n",
       "..                    ...           ...               ...        ...   \n",
       "995        Phường Láng Hạ  Quận Đống Đa  Thành phố Hà Nội  21.011495   \n",
       "996     Phường Trung Liệt  Quận Đống Đa  Thành phố Hà Nội  21.011495   \n",
       "997      Phường Ô Chợ Dừa  Quận Đống Đa  Thành phố Hà Nội  21.016106   \n",
       "998     Phường Văn Chương  Quận Đống Đa  Thành phố Hà Nội  21.021345   \n",
       "999  Phường Khương Thượng  Quận Đống Đa  Thành phố Hà Nội  21.009123   \n",
       "\n",
       "           long  \n",
       "0    105.824583  \n",
       "1    105.824105  \n",
       "2    105.833111  \n",
       "3    105.801011  \n",
       "4    105.824230  \n",
       "..          ...  \n",
       "995  105.816666  \n",
       "996  105.816666  \n",
       "997  105.832157  \n",
       "998  105.833122  \n",
       "999  105.824428  \n",
       "\n",
       "[1000 rows x 18 columns]"
      ]
     },
     "metadata": {},
     "output_type": "display_data"
    },
    {
     "name": "stdout",
     "output_type": "stream",
     "text": [
      "===== Pass =====\n"
     ]
    }
   ],
   "source": [
    "%%cauhoi 1\n",
    "%%tee response\n",
    "# Code dưới dòng này\n",
    "import pandas as pd\n",
    "import numpy as np\n",
    "import sklearn.preprocessing as pp\n",
    "import matplotlib.pyplot as plt\n",
    "\n",
    "data = pd.read_excel('house_price_dống-da.xlsx')\n",
    "data"
   ]
  },
  {
   "cell_type": "markdown",
   "id": "a3978d3d-7927-41b1-b131-657406a4faf2",
   "metadata": {
    "tags": []
   },
   "source": [
    "## Câu 2:"
   ]
  },
  {
   "cell_type": "markdown",
   "id": "6e566f8a-da9c-4655-9210-549bfd379c2a",
   "metadata": {},
   "source": [
    "**Phát hiện các cột chứa dữ liệu khuyết thiếu  \n",
    "Số lượng các dòng chứa dữ liệu khuyết thiếu  \n",
    "Nhận xét xem loại dữ liệu nào có thể xóa nếu có khuyết thiếu**"
   ]
  },
  {
   "cell_type": "markdown",
   "id": "0ac69c1c-f528-4d20-8ff2-6d408ab37612",
   "metadata": {},
   "source": [
    "**Expected answers:**"
   ]
  },
  {
   "cell_type": "markdown",
   "id": "59e1d4a2-9aaa-4caf-97ca-66c130e900bd",
   "metadata": {
    "tags": []
   },
   "source": [
    "Output:  \n",
    "Cột AAA chứa BBB giá trị KT  \n",
    "Cột AAAA chứa BBBB giá trị KT  \n",
    "...  \n",
    "Tổng số lượng dòng có chứa giá trị khuyết thiếu là:  CCC  \n",
    "...  \n",
    "Các cột 'DDD', 'EEE', '...' có thể xóa"
   ]
  },
  {
   "cell_type": "code",
   "execution_count": 25,
   "id": "8a6a3c3e-07d5-432c-992b-a5a86fa48e9c",
   "metadata": {},
   "outputs": [
    {
     "ename": "AttributeError",
     "evalue": "'Series' object has no attribute 'column'",
     "output_type": "error",
     "traceback": [
      "\u001b[1;31m---------------------------------------------------------------------------\u001b[0m",
      "\u001b[1;31mAttributeError\u001b[0m                            Traceback (most recent call last)",
      "\u001b[1;32m<ipython-input-25-a5d5641e53ee>\u001b[0m in \u001b[0;36m<module>\u001b[1;34m\u001b[0m\n\u001b[0;32m      3\u001b[0m \u001b[1;31m# print(f'Tổng số lượng dòng có chứa giá trị khuyết thiếu là: {}')\u001b[0m\u001b[1;33m\u001b[0m\u001b[1;33m\u001b[0m\u001b[1;33m\u001b[0m\u001b[0m\n\u001b[0;32m      4\u001b[0m \u001b[1;31m# np.dtype(isna_data)\u001b[0m\u001b[1;33m\u001b[0m\u001b[1;33m\u001b[0m\u001b[1;33m\u001b[0m\u001b[0m\n\u001b[1;32m----> 5\u001b[1;33m \u001b[0misna_data\u001b[0m\u001b[1;33m.\u001b[0m\u001b[0mcolumn\u001b[0m\u001b[1;33m\u001b[0m\u001b[1;33m\u001b[0m\u001b[0m\n\u001b[0m\u001b[0;32m      6\u001b[0m \u001b[1;31m# for value in isna_data.columns():\u001b[0m\u001b[1;33m\u001b[0m\u001b[1;33m\u001b[0m\u001b[1;33m\u001b[0m\u001b[0m\n\u001b[0;32m      7\u001b[0m \u001b[1;31m#     print(f'Cột {value}')\u001b[0m\u001b[1;33m\u001b[0m\u001b[1;33m\u001b[0m\u001b[1;33m\u001b[0m\u001b[0m\n",
      "\u001b[1;32m~\\anaconda3\\lib\\site-packages\\pandas\\core\\generic.py\u001b[0m in \u001b[0;36m__getattr__\u001b[1;34m(self, name)\u001b[0m\n\u001b[0;32m   5463\u001b[0m             \u001b[1;32mif\u001b[0m \u001b[0mself\u001b[0m\u001b[1;33m.\u001b[0m\u001b[0m_info_axis\u001b[0m\u001b[1;33m.\u001b[0m\u001b[0m_can_hold_identifiers_and_holds_name\u001b[0m\u001b[1;33m(\u001b[0m\u001b[0mname\u001b[0m\u001b[1;33m)\u001b[0m\u001b[1;33m:\u001b[0m\u001b[1;33m\u001b[0m\u001b[1;33m\u001b[0m\u001b[0m\n\u001b[0;32m   5464\u001b[0m                 \u001b[1;32mreturn\u001b[0m \u001b[0mself\u001b[0m\u001b[1;33m[\u001b[0m\u001b[0mname\u001b[0m\u001b[1;33m]\u001b[0m\u001b[1;33m\u001b[0m\u001b[1;33m\u001b[0m\u001b[0m\n\u001b[1;32m-> 5465\u001b[1;33m             \u001b[1;32mreturn\u001b[0m \u001b[0mobject\u001b[0m\u001b[1;33m.\u001b[0m\u001b[0m__getattribute__\u001b[0m\u001b[1;33m(\u001b[0m\u001b[0mself\u001b[0m\u001b[1;33m,\u001b[0m \u001b[0mname\u001b[0m\u001b[1;33m)\u001b[0m\u001b[1;33m\u001b[0m\u001b[1;33m\u001b[0m\u001b[0m\n\u001b[0m\u001b[0;32m   5466\u001b[0m \u001b[1;33m\u001b[0m\u001b[0m\n\u001b[0;32m   5467\u001b[0m     \u001b[1;32mdef\u001b[0m \u001b[0m__setattr__\u001b[0m\u001b[1;33m(\u001b[0m\u001b[0mself\u001b[0m\u001b[1;33m,\u001b[0m \u001b[0mname\u001b[0m\u001b[1;33m:\u001b[0m \u001b[0mstr\u001b[0m\u001b[1;33m,\u001b[0m \u001b[0mvalue\u001b[0m\u001b[1;33m)\u001b[0m \u001b[1;33m->\u001b[0m \u001b[1;32mNone\u001b[0m\u001b[1;33m:\u001b[0m\u001b[1;33m\u001b[0m\u001b[1;33m\u001b[0m\u001b[0m\n",
      "\u001b[1;31mAttributeError\u001b[0m: 'Series' object has no attribute 'column'"
     ]
    }
   ],
   "source": [
    "%%cauhoi 2\n",
    "%%tee response\n",
    "# Code dưới dòng này\n",
    "isna_data = data.isna().sum()\n",
    "# print(f'Tổng số lượng dòng có chứa giá trị khuyết thiếu là: {}')\n",
    "# np.dtype(isna_data)\n",
    "isna_data.column\n",
    "# for value in isna_data.columns():\n",
    "#     print(f'Cột {value}')"
   ]
  },
  {
   "cell_type": "markdown",
   "id": "dd9382f7-cbe4-4d39-b66f-c6ac11eebb14",
   "metadata": {
    "tags": []
   },
   "source": [
    "## Câu 3:"
   ]
  },
  {
   "cell_type": "markdown",
   "id": "241cd909-1422-411b-ad10-c8b57f79310d",
   "metadata": {},
   "source": [
    "**Xóa bỏ hết tất cả những dòng dữ liệu không có thông tin về giá**"
   ]
  },
  {
   "cell_type": "code",
   "execution_count": 4,
   "id": "946ca753-62eb-4d1b-8db5-cf9b7366e25c",
   "metadata": {},
   "outputs": [],
   "source": [
    "%%cauhoi 3\n",
    "%%tee response\n",
    "# Code dưới dòng này\n"
   ]
  },
  {
   "cell_type": "markdown",
   "id": "d8e2d6ab-f48d-4ce8-a2fc-287105303b62",
   "metadata": {
    "tags": []
   },
   "source": [
    "## Câu 4:"
   ]
  },
  {
   "cell_type": "markdown",
   "id": "c49ea9cf-140f-4582-9fc7-36e985238a60",
   "metadata": {},
   "source": [
    "**Thay thế giá trị khuyết thiếu của land_certificate bằng =”không có thông tin”**"
   ]
  },
  {
   "cell_type": "code",
   "execution_count": 5,
   "id": "963424b4-6a41-4b29-8ef5-31830dc0c460",
   "metadata": {},
   "outputs": [],
   "source": [
    "%%cauhoi 4\n",
    "%%tee response\n",
    "# Code dưới dòng này\n"
   ]
  },
  {
   "cell_type": "markdown",
   "id": "a31ff9c5-0b77-4b59-9697-0d4a9d0bcae0",
   "metadata": {
    "tags": []
   },
   "source": [
    "## Câu 5:"
   ]
  },
  {
   "cell_type": "markdown",
   "id": "9f5caf9d-f07b-42c0-b11c-6b4cedd859db",
   "metadata": {},
   "source": [
    "**Thay thế giá trị khuyết thiếu của house_direction, balcony_direction, toilet, bedroom, floor  bằng giá trị có tần số xuất hiện lớn nhất của các thuộc tính đó**"
   ]
  },
  {
   "cell_type": "code",
   "execution_count": 6,
   "id": "b506883c-7fd6-4422-9dbc-3f2df3fea275",
   "metadata": {},
   "outputs": [],
   "source": [
    "%%cauhoi 5\n",
    "%%tee response\n",
    "# Code dưới dòng này\n"
   ]
  },
  {
   "cell_type": "markdown",
   "id": "d223fda3-ea65-4e88-9c4d-ccef9eba7e17",
   "metadata": {
    "tags": []
   },
   "source": [
    "## Câu 6:"
   ]
  },
  {
   "cell_type": "markdown",
   "id": "0d044f4a-a03d-4e90-9b6b-f874231cad1b",
   "metadata": {},
   "source": [
    "**Lọc thông tin những bất động sản nhà mặt phố thành bộ dữ liệu nhà mặt phố  \n",
    "Tính toán giá/m2  ( đơn vị triệu/m2) với loại hình nhà mặt phố**"
   ]
  },
  {
   "cell_type": "markdown",
   "id": "113c498d-3a79-42a5-a6ae-67a2befd3287",
   "metadata": {},
   "source": [
    "**Hints & Expected answers:**"
   ]
  },
  {
   "cell_type": "markdown",
   "id": "58c9d189-41fc-4837-bb72-a64f73166b61",
   "metadata": {
    "tags": []
   },
   "source": [
    "bộ dữ liệu mới có tên \"nhapho\"\n",
    "\n",
    "cột mới có tên \"giá (triệu/m2)\"\n",
    "\n",
    "không sort lại index\n",
    "\n",
    "Chú ý dữ liệu khuyết thiếu"
   ]
  },
  {
   "cell_type": "code",
   "execution_count": 7,
   "id": "98363e28-fe5e-47f5-8950-42f73352c846",
   "metadata": {},
   "outputs": [],
   "source": [
    "%%cauhoi 6\n",
    "%%tee response\n",
    "# Code dưới dòng này\n"
   ]
  },
  {
   "cell_type": "markdown",
   "id": "df83ee5d-cac6-4ef5-847b-a4939356a1e0",
   "metadata": {
    "tags": []
   },
   "source": [
    "## Câu 7:"
   ]
  },
  {
   "cell_type": "markdown",
   "id": "3e920c48-a7e8-4486-aaa2-9c0fa5d2f417",
   "metadata": {},
   "source": [
    "**Đối với bộ dữ liệu nhà mặt phố, phát hiện giá trị ngoại lai của các thuộc tính: diện tích, giá/m2 bằng phương pháp Z-score  \n",
    "Thực hiện loại bỏ các dòng dữ liệu ngoại lai  \n",
    "Có bao nhiêu giá trị bị bỏ đi**"
   ]
  },
  {
   "cell_type": "markdown",
   "id": "81b13a38-f6b4-4975-91da-25381b881d20",
   "metadata": {},
   "source": [
    "**Hints & Expected answers:**"
   ]
  },
  {
   "cell_type": "markdown",
   "id": "4f2c7544-6c5f-4f5e-9de1-ae3c5b679196",
   "metadata": {
    "tags": []
   },
   "source": [
    "Gợi ý:\n",
    "Có thể dùng sklearn.preprocessing.StandardScaler().fit_transform(df) hoặc tính thủ công  \n",
    "Chỉ cần tìm giá trị ngoại lai trên các cột 'area', 'price', 'giá (triệu/m2)'.  \n",
    "Loại bỏ các giá trị ngoại lai với threshold = 3  \n",
    "Lưu dữ liệu mới (bao gồm tất cả các cột) vào bảng \"nhapho7\"  \n",
    "Output: \"Số giá trị bị bỏ đi là xxx\" (chấm điểm)"
   ]
  },
  {
   "cell_type": "code",
   "execution_count": 8,
   "id": "2a66230e-bf81-4972-ade3-0fb2252e2539",
   "metadata": {},
   "outputs": [],
   "source": [
    "%%cauhoi 7\n",
    "%%tee response\n",
    "# Code dưới dòng này\n"
   ]
  },
  {
   "cell_type": "markdown",
   "id": "e2c6cdab-37de-45ea-b172-d95c5556242b",
   "metadata": {
    "tags": []
   },
   "source": [
    "## Câu 8:"
   ]
  },
  {
   "cell_type": "markdown",
   "id": "2cc58128-c6cf-48f6-a24d-480c33190f13",
   "metadata": {},
   "source": [
    "**Đối với bộ dữ liệu nhà mặt phố, phát hiện giá trị ngoại lai của các thuộc tính: diện tích, giá/m2 bằng phương pháp IQR  \n",
    "Thực hiện loại bỏ các dòng dữ liệu ngoại lai  \n",
    "Có bao nhiêu giá trị bị bỏ đi**"
   ]
  },
  {
   "cell_type": "markdown",
   "id": "24b39a47-d4b7-43b0-bd71-47af05197b1f",
   "metadata": {},
   "source": [
    "**Hints & Expected answers:**"
   ]
  },
  {
   "cell_type": "markdown",
   "id": "9759f78d-ca93-4a89-8c6e-a92925f416c1",
   "metadata": {
    "tags": []
   },
   "source": [
    "Gợi ý:\n",
    "Chỉ cần tìm giá trị ngoại lai trên các cột 'area', 'price', 'giá (triệu/m2)'.  \n",
    "Các giá trị ngoại lai nhapho < (Q1 - 1.5 * IQR)) | (nhapho > (Q3 + 1.5 * IQR))  \n",
    "Lưu dữ liệu mới (chỉ gồm các cột trên) vào bảng \"nhapho8\"  \n",
    "Output: \"Số giá trị bị bỏ đi là xxx\" (chấm điểm)"
   ]
  },
  {
   "cell_type": "code",
   "execution_count": 9,
   "id": "1976a49b-efbf-4d0f-8d7f-de6561f69e74",
   "metadata": {
    "tags": []
   },
   "outputs": [],
   "source": [
    "%%cauhoi 8\n",
    "%%tee response\n",
    "# Code dưới dòng này\n"
   ]
  },
  {
   "cell_type": "markdown",
   "id": "0f0a04c1-e4aa-456b-bf42-156e0d86f7a9",
   "metadata": {
    "tags": []
   },
   "source": [
    "## Câu 9:"
   ]
  },
  {
   "cell_type": "markdown",
   "id": "47b78046-0f5d-4ae8-9024-c33e566e5111",
   "metadata": {},
   "source": [
    "**Chuẩn hóa dữ liệu của thuộc tính giá/m2 bằng các phương pháp:  \n",
    "z-score scaling,  \n",
    "min-max scaling,  \n",
    "Robust scaling**  \n",
    "**Lưu các giá trị mode, mean và median của thuộc tính theo các phương pháp ra 1 bảng**  \n",
    "**Vẽ đồ thị và so sánh phân bố của thuộc tính giá/m2 trước và sau khi chuẩn hóa**"
   ]
  },
  {
   "cell_type": "markdown",
   "id": "c187010b-292d-454f-89f8-61b60b3d5520",
   "metadata": {},
   "source": [
    "**Hints & Expected answers:**"
   ]
  },
  {
   "cell_type": "markdown",
   "id": "e495a3ca-8e16-452d-96ae-eac14bc106ba",
   "metadata": {
    "tags": []
   },
   "source": [
    "Gợi ý:\n",
    "Chỉ cần chuẩn hóa trên cột 'giá (triệu/m2)'.  \n",
    "Nên sử dụng các class StandardScaler(), MinMaxScaler(), RobustScaler() của module sklearn.preprocessing  \n",
    "Lưu các giá trị mode, mean và median vào bảng \"nhapho9\"; tên cột là 'Z-score', 'MinMax', 'Robust'; index là 'mode', 'mean', 'median'. (chấm điểm) \n",
    "Vẽ đồ thị histogram() của thuộc tính giá/m2. So sánh với bảng nhapho9"
   ]
  },
  {
   "cell_type": "code",
   "execution_count": 10,
   "id": "c7c67221-f54c-4c06-8866-8ee9eee4275e",
   "metadata": {
    "tags": []
   },
   "outputs": [],
   "source": [
    "%%cauhoi 9\n",
    "%%tee response\n",
    "# Code dưới dòng này\n"
   ]
  },
  {
   "cell_type": "markdown",
   "id": "c3891db3-ceea-4321-b7cf-213ea8fb21f8",
   "metadata": {
    "tags": []
   },
   "source": [
    "## Câu 10:"
   ]
  },
  {
   "cell_type": "markdown",
   "id": "9ba80fcb-6cdd-471f-9647-2845a1e11a51",
   "metadata": {},
   "source": [
    "**Tương tự câu 9, nhưng vừa chuẩn hóa vừa xóa dữ liệu ngoại lai theo từng phương pháp**"
   ]
  },
  {
   "cell_type": "markdown",
   "id": "0d894924-379c-46c0-9fcc-df1fa2dc7803",
   "metadata": {},
   "source": [
    "**Hint & Expected answers:**"
   ]
  },
  {
   "cell_type": "markdown",
   "id": "e2b0edeb-2e3b-4bf5-9796-bc85c2d2a1ea",
   "metadata": {
    "tags": []
   },
   "source": [
    "Gợi ý:\n",
    "Chỉ cần chuẩn hóa trên cột 'giá (triệu/m2)'.  \n",
    "Nên sử dụng các class StandardScaler(), MinMaxScaler(), RobustScaler() của module sklearn.preprocessing  \n",
    "Chuẩn hóa xong thì xóa dữ liệu ngoại lai: StandardScaler < 3, MinMaxScaler < 0.25, RobustScaler vẫn sử dụng thừa số 1.5 như lý thuyết  \n",
    "Lưu các giá trị mode, mean và median vào bảng \"nhapho10\"; tên cột là 'Z-score', 'MinMax', 'Robust'; index là 'mode', 'mean', 'median'. (chấm điểm)  \n",
    "Vẽ đồ thị histogram() của thuộc tính giá/m2. So sánh với bảng nhapho10 và câu 9"
   ]
  },
  {
   "cell_type": "code",
   "execution_count": 11,
   "id": "8e5a931c-cf88-42dc-8cf9-56580786f276",
   "metadata": {},
   "outputs": [],
   "source": [
    "%%cauhoi 10\n",
    "%%tee response\n",
    "# Code dưới dòng này\n"
   ]
  },
  {
   "cell_type": "markdown",
   "id": "f29d8fdc-2626-4046-871b-48cd31477bd4",
   "metadata": {},
   "source": [
    "# Tính điểm"
   ]
  },
  {
   "cell_type": "code",
   "execution_count": 12,
   "id": "524ea859-941a-4dd3-bb07-fc4d1dafa2e7",
   "metadata": {},
   "outputs": [
    {
     "name": "stdout",
     "output_type": "stream",
     "text": [
      "Diem so la: 1/10\n"
     ]
    },
    {
     "data": {
      "text/html": [
       "<script>alert('Diem so la: 1/10');</script>"
      ],
      "text/plain": [
       "<IPython.core.display.HTML object>"
      ]
     },
     "metadata": {},
     "output_type": "display_data"
    }
   ],
   "source": [
    "final_score(score)"
   ]
  }
 ],
 "metadata": {
  "kernelspec": {
   "display_name": "Python 3",
   "language": "python",
   "name": "python3"
  },
  "language_info": {
   "codemirror_mode": {
    "name": "ipython",
    "version": 3
   },
   "file_extension": ".py",
   "mimetype": "text/x-python",
   "name": "python",
   "nbconvert_exporter": "python",
   "pygments_lexer": "ipython3",
   "version": "3.8.8"
  },
  "toc-autonumbering": false,
  "toc-showcode": false,
  "toc-showmarkdowntxt": false,
  "toc-showtags": false
 },
 "nbformat": 4,
 "nbformat_minor": 5
}
