{
 "cells": [
  {
   "cell_type": "markdown",
   "id": "1a261b25-7817-4ec7-b71a-124d87a2489f",
   "metadata": {},
   "source": [
    "# Bài tập Tiền xử lý dữ liệu - Phần 1"
   ]
  },
  {
   "cell_type": "markdown",
   "id": "6b36cacb-37a7-4d85-b125-b4325ac4c0a6",
   "metadata": {},
   "source": [
    "**Bộ dữ liệu Online Retail mô tả tình hình kinh doanh của một doanh nghiệp bán hàng Online mà bạn đã được làm quen từ buổi 1. Yêu cầu:**"
   ]
  },
  {
   "cell_type": "markdown",
   "id": "72fd4e42-9ffb-457e-a110-a2bec0a2f237",
   "metadata": {
    "tags": []
   },
   "source": [
    "## Câu 1:"
   ]
  },
  {
   "cell_type": "markdown",
   "id": "4b89ced6-9b4b-45d1-971b-0db3c5506e2e",
   "metadata": {},
   "source": [
    "**Phát hiện các cột chứa dữ liệu khuyết thiếu**  \n",
    "**Số lượng dòng khuyết thiếu là bao nhiêu**  \n",
    "**Có nên xóa hết các dòng chứa dữ liệu khuyết thiếu, giải thích vì sao**  \n",
    "**Thực hiện xử lý giá trị khuyết thiếu: Thay thế giá trị khuyết thiếu của thuộc tính Description bằng giá trị mặc định “Không biết”**  "
   ]
  },
  {
   "cell_type": "markdown",
   "id": "74fbd031-1902-454c-bd71-e38b224306f0",
   "metadata": {
    "tags": []
   },
   "source": [
    "## Câu 2:"
   ]
  },
  {
   "cell_type": "markdown",
   "id": "5e70c95c-a969-4af3-8803-e2fbc1e8ebf2",
   "metadata": {},
   "source": [
    "**Thực hiện phát hiện giá trị ngoại lai của thuộc tính Quantity và Thuộc tính UnitPrice**  \n",
    "**Tiến hành lọc riêng bộ dữ liệu chứa giá trị ngoại lai và bộ dữ liệu sạch**  \n",
    "**Mô tả thông tin của bộ dữ liệu trên và nhận xét**"
   ]
  }
 ],
 "metadata": {
  "kernelspec": {
   "display_name": "Python 3",
   "language": "python",
   "name": "python3"
  },
  "language_info": {
   "codemirror_mode": {
    "name": "ipython",
    "version": 3
   },
   "file_extension": ".py",
   "mimetype": "text/x-python",
   "name": "python",
   "nbconvert_exporter": "python",
   "pygments_lexer": "ipython3",
   "version": "3.8.8"
  }
 },
 "nbformat": 4,
 "nbformat_minor": 5
}
